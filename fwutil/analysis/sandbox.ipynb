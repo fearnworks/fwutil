{
 "cells": [
  {
   "cell_type": "code",
   "execution_count": null,
   "metadata": {},
   "outputs": [],
   "source": [
    "import os\n",
    "import sys\n",
    "from dotenv import load_dotenv\n",
    "import pandas as pd\n",
    "from sqlalchemy import create_engine\n",
    "import matplotlib.pyplot as plt\n",
    "import seaborn as sns\n",
    "import numpy as np  \n",
    "import pandas as pd\n",
    "import requests\n",
    "from io import BytesIO\n",
    "from datetime import datetime\n",
    "\n",
    "\"\"\"\n",
    "Use this section for adding the 'src' directory to the system path if it exists\n",
    "\"\"\"\n",
    "# # Get the current working directory of the Jupyter notebook\n",
    "current_dir = os.getcwd()\n",
    "parent_dir = os.path.dirname(current_dir)\n",
    "sys.path.append(parent_dir)\n",
    "# # Construct the path to the 'src' directory relative to the current working directory\n",
    "# src_dir = os.path.join(current_dir, '..', '..', 'src')\n",
    "\n",
    "# # Add the 'src' directory to the system path (if it's not already in sys.path)\n",
    "# src_dir_abs = os.path.abspath(src_dir)\n",
    "# if src_dir_abs not in sys.path:\n",
    "#     sys.path.append(src_dir_abs)\n",
    "\n",
    "\n",
    "# print(\"Contents of the 'src' directory:\", os.listdir(src_dir_abs))\n",
    "# print(src_dir_abs)\n",
    "\n",
    "%matplotlib inline\n",
    "%reload_ext autoreload\n",
    "%autoreload 2"
   ]
  },
  {
   "cell_type": "code",
   "execution_count": null,
   "metadata": {},
   "outputs": [],
   "source": [
    "from dotenv import load_dotenv\n",
    "import fwutil.utils as Utils\n",
    "\n",
    "log_dir = (os.path.join(os.path.dirname(current_dir), \"logs\"))\n",
    "Utils.PipelineLogger.config_logger({}, data_dir=log_dir)\n",
    "logger = Utils.PipelineLogger.get_logger(__name__)\n",
    "logger.info(log_dir)\n",
    "# Debugging: Print the sys.path and contents of the 'src' directory\n",
    "logger.info(\"System path: %s\", sys.path)\n",
    "# Import the modules directly (without the 'src.' prefix)\n",
    "\n",
    "\n",
    "logger.info(\"Modules imported successfully.\")\n",
    "\n",
    "# Debugging: Print the sys.path again to check if it changed during the imports\n",
    "logger.info(\"System path after imports: %s\", sys.path)"
   ]
  },
  {
   "cell_type": "code",
   "execution_count": null,
   "metadata": {},
   "outputs": [],
   "source": [
    "%%html\n",
    "<style>\n",
    ".output_wrapper, .output {\n",
    "    height:auto !important;\n",
    "    max-height:900px; /* your desired max-height here */\n",
    "}\n",
    ".output_scroll {\n",
    "    box-shadow:none !important;\n",
    "    webkit-box-shadow:none !important;\n",
    "}\n",
    "</style>"
   ]
  }
 ],
 "metadata": {
  "kernelspec": {
   "display_name": ".venv",
   "language": "python",
   "name": "python3"
  },
  "language_info": {
   "codemirror_mode": {
    "name": "ipython",
    "version": 3
   },
   "file_extension": ".py",
   "mimetype": "text/x-python",
   "name": "python",
   "nbconvert_exporter": "python",
   "pygments_lexer": "ipython3",
   "version": "3.11.2"
  },
  "orig_nbformat": 4
 },
 "nbformat": 4,
 "nbformat_minor": 2
}
